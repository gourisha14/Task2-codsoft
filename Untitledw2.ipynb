{
 "cells": [
  {
   "cell_type": "code",
   "execution_count": 3,
   "id": "de491d72",
   "metadata": {},
   "outputs": [
    {
     "name": "stdout",
     "output_type": "stream",
     "text": [
      "learning\n"
     ]
    }
   ],
   "source": [
    "strsample = 'learning'\n",
    "print(strsample)"
   ]
  },
  {
   "cell_type": "code",
   "execution_count": 4,
   "id": "6b2d73ee",
   "metadata": {},
   "outputs": [
    {
     "name": "stdout",
     "output_type": "stream",
     "text": [
      "learning python\n"
     ]
    }
   ],
   "source": [
    "print(strsample+'','python')"
   ]
  },
  {
   "cell_type": "code",
   "execution_count": 5,
   "id": "ad5f4fed",
   "metadata": {},
   "outputs": [
    {
     "name": "stdout",
     "output_type": "stream",
     "text": [
      "learning\n"
     ]
    }
   ],
   "source": [
    "print(strsample)"
   ]
  },
  {
   "cell_type": "code",
   "execution_count": 10,
   "id": "0b17d298",
   "metadata": {},
   "outputs": [
    {
     "name": "stdout",
     "output_type": "stream",
     "text": [
      "('learning', 'python')\n"
     ]
    }
   ],
   "source": [
    "nstr=strsample+'','python'\n",
    "print(nstr)\n"
   ]
  },
  {
   "cell_type": "code",
   "execution_count": 21,
   "id": "7bfd3bc4",
   "metadata": {},
   "outputs": [
    {
     "name": "stdout",
     "output_type": "stream",
     "text": [
      "[1, 2, 'a', 'sam', 2]\n",
      "[1, 2, 'a', 'sam', 2, 'py']\n"
     ]
    }
   ],
   "source": [
    "lstsample = [1,2,'a','sam',2]\n",
    "print(lstsample)\n",
    "lst=lstsample+['py']\n",
    "print(lst)\n"
   ]
  },
  {
   "cell_type": "code",
   "execution_count": 28,
   "id": "778ffd05",
   "metadata": {},
   "outputs": [
    {
     "name": "stdout",
     "output_type": "stream",
     "text": [
      "{24, 'example', 'data', 87.5}\n",
      "({24, 'example', 'data', 87.5}, 24)\n"
     ]
    }
   ],
   "source": [
    "setsample={24, 'data', 'example', 87.5}\n",
    "print(setsample)\n",
    "setsample=setsample,24\n",
    "print(setsample)\n"
   ]
  },
  {
   "cell_type": "code",
   "execution_count": 31,
   "id": "67212ed1",
   "metadata": {},
   "outputs": [
    {
     "name": "stdout",
     "output_type": "stream",
     "text": [
      "1\n",
      "2\n",
      "4\n",
      "78\n",
      "9\n"
     ]
    }
   ],
   "source": [
    "from array import *\n",
    "arrsample = array('i',[1,2,4,78,9])\n",
    "for x in arrsample: print(x)"
   ]
  },
  {
   "cell_type": "code",
   "execution_count": 33,
   "id": "a383f089",
   "metadata": {},
   "outputs": [
    {
     "data": {
      "text/plain": [
       "array('i', [1, 2, 4, 78, 9, 29, 45])"
      ]
     },
     "execution_count": 33,
     "metadata": {},
     "output_type": "execute_result"
    }
   ],
   "source": [
    "arrsample+array('i',[29,45])"
   ]
  },
  {
   "cell_type": "code",
   "execution_count": 12,
   "id": "4321184a",
   "metadata": {},
   "outputs": [
    {
     "name": "stdout",
     "output_type": "stream",
     "text": [
      "(1, 2, 3, 4, 'py')\n",
      "(1, 2, 3, 4, 'py', 'th', 'oh')\n"
     ]
    }
   ],
   "source": [
    "tupample=(1,2,3,4,'py')\n",
    "print(tupample)\n",
    "tupample+=('th','oh')\n",
    "print(tupample)"
   ]
  },
  {
   "cell_type": "code",
   "execution_count": 63,
   "id": "dc808597",
   "metadata": {},
   "outputs": [
    {
     "name": "stdout",
     "output_type": "stream",
     "text": [
      "learning is Fun!\n"
     ]
    },
    {
     "data": {
      "text/plain": [
       "'Learning is fun!'"
      ]
     },
     "execution_count": 63,
     "metadata": {},
     "output_type": "execute_result"
    }
   ],
   "source": [
    "strsample='learning is Fun!'\n",
    "print(strsample)\n",
    "strsample.capitalize()"
   ]
  },
  {
   "cell_type": "code",
   "execution_count": 64,
   "id": "f522ac3b",
   "metadata": {},
   "outputs": [
    {
     "data": {
      "text/plain": [
       "'Learning Is Fun!'"
      ]
     },
     "execution_count": 64,
     "metadata": {},
     "output_type": "execute_result"
    }
   ],
   "source": [
    "strsample.title()\n"
   ]
  },
  {
   "cell_type": "code",
   "execution_count": 65,
   "id": "534ac350",
   "metadata": {},
   "outputs": [
    {
     "data": {
      "text/plain": [
       "'LEARNING IS fUN!'"
      ]
     },
     "execution_count": 65,
     "metadata": {},
     "output_type": "execute_result"
    }
   ],
   "source": [
    "strsample.swapcase()\n"
   ]
  },
  {
   "cell_type": "code",
   "execution_count": 66,
   "id": "8c70ad21",
   "metadata": {},
   "outputs": [
    {
     "data": {
      "text/plain": [
       "'Learning Is Fun!'"
      ]
     },
     "execution_count": 66,
     "metadata": {},
     "output_type": "execute_result"
    }
   ],
   "source": [
    "strsample.title()\n"
   ]
  },
  {
   "cell_type": "code",
   "execution_count": 68,
   "id": "665d4f97",
   "metadata": {},
   "outputs": [
    {
     "data": {
      "text/plain": [
       "'learning is fun!'"
      ]
     },
     "execution_count": 68,
     "metadata": {},
     "output_type": "execute_result"
    }
   ],
   "source": [
    "strsample.casefold()\n"
   ]
  },
  {
   "cell_type": "code",
   "execution_count": 71,
   "id": "ba29a46f",
   "metadata": {},
   "outputs": [
    {
     "data": {
      "text/plain": [
       "7"
      ]
     },
     "execution_count": 71,
     "metadata": {},
     "output_type": "execute_result"
    }
   ],
   "source": [
    "strsample.find('g')"
   ]
  },
  {
   "cell_type": "code",
   "execution_count": 75,
   "id": "cf33c5a4",
   "metadata": {},
   "outputs": [
    {
     "data": {
      "text/plain": [
       "15"
      ]
     },
     "execution_count": 75,
     "metadata": {},
     "output_type": "execute_result"
    }
   ],
   "source": [
    "strsample.find('!')"
   ]
  },
  {
   "cell_type": "code",
   "execution_count": 77,
   "id": "9d99419c",
   "metadata": {},
   "outputs": [
    {
     "data": {
      "text/plain": [
       "2"
      ]
     },
     "execution_count": 77,
     "metadata": {},
     "output_type": "execute_result"
    }
   ],
   "source": [
    "strsample.count('i')"
   ]
  },
  {
   "cell_type": "code",
   "execution_count": 79,
   "id": "6675acb5",
   "metadata": {},
   "outputs": [
    {
     "data": {
      "text/plain": [
       "'learning is really Fun!'"
      ]
     },
     "execution_count": 79,
     "metadata": {},
     "output_type": "execute_result"
    }
   ],
   "source": [
    "strsample.replace('is','is really')"
   ]
  },
  {
   "cell_type": "code",
   "execution_count": 81,
   "id": "3dbe0632",
   "metadata": {},
   "outputs": [
    {
     "data": {
      "text/plain": [
       "False"
      ]
     },
     "execution_count": 81,
     "metadata": {},
     "output_type": "execute_result"
    }
   ],
   "source": [
    "strsample.isalnum()"
   ]
  },
  {
   "cell_type": "code",
   "execution_count": 83,
   "id": "28dece56",
   "metadata": {},
   "outputs": [
    {
     "data": {
      "text/plain": [
       "'learning is Fun!'"
      ]
     },
     "execution_count": 83,
     "metadata": {},
     "output_type": "execute_result"
    }
   ],
   "source": [
    "strsample"
   ]
  },
  {
   "cell_type": "code",
   "execution_count": 85,
   "id": "b5ff7279",
   "metadata": {},
   "outputs": [
    {
     "data": {
      "text/plain": [
       "[1, 2, 'a', 'sam', 2]"
      ]
     },
     "execution_count": 85,
     "metadata": {},
     "output_type": "execute_result"
    }
   ],
   "source": [
    "lstsample"
   ]
  },
  {
   "cell_type": "code",
   "execution_count": 87,
   "id": "f2356ab1",
   "metadata": {},
   "outputs": [
    {
     "data": {
      "text/plain": [
       "array('i', [1, 2, 4, 78, 9])"
      ]
     },
     "execution_count": 87,
     "metadata": {},
     "output_type": "execute_result"
    }
   ],
   "source": [
    "from array import *\n",
    "arrsample"
   ]
  },
  {
   "cell_type": "code",
   "execution_count": 17,
   "id": "4d3cb500",
   "metadata": {},
   "outputs": [
    {
     "data": {
      "text/plain": [
       "(1, 2, 3, 4, 'py', 'th', 'oh')"
      ]
     },
     "execution_count": 17,
     "metadata": {},
     "output_type": "execute_result"
    }
   ],
   "source": [
    "tupample\n",
    "\n"
   ]
  },
  {
   "cell_type": "code",
   "execution_count": 96,
   "id": "a1936f2e",
   "metadata": {},
   "outputs": [
    {
     "name": "stdout",
     "output_type": "stream",
     "text": [
      "{1: 'first', 'second': 2, 3: 3, 'four': 4}\n"
     ]
    }
   ],
   "source": [
    "dictsample = dict({1:'first','second':2,3:3,'four':4}) \n",
    "print(dictsample)"
   ]
  },
  {
   "cell_type": "code",
   "execution_count": 98,
   "id": "5b4ef62e",
   "metadata": {},
   "outputs": [
    {
     "data": {
      "text/plain": [
       "({24, 87.5, 'data', 'example'}, 24)"
      ]
     },
     "execution_count": 98,
     "metadata": {},
     "output_type": "execute_result"
    }
   ],
   "source": [
    "setsample"
   ]
  },
  {
   "cell_type": "code",
   "execution_count": 101,
   "id": "1b879992",
   "metadata": {},
   "outputs": [
    {
     "name": "stdout",
     "output_type": "stream",
     "text": [
      "1\n",
      "5\n",
      "9\n"
     ]
    }
   ],
   "source": [
    "rangesample= range(1,12,4)\n",
    "for x in rangesample:print(x)"
   ]
  },
  {
   "cell_type": "code",
   "execution_count": 103,
   "id": "0079c491",
   "metadata": {},
   "outputs": [
    {
     "data": {
      "text/plain": [
       "range(1, 9, 4)"
      ]
     },
     "execution_count": 103,
     "metadata": {},
     "output_type": "execute_result"
    }
   ],
   "source": [
    "rangesample[:-1]"
   ]
  },
  {
   "cell_type": "code",
   "execution_count": 104,
   "id": "8be89902",
   "metadata": {},
   "outputs": [
    {
     "name": "stdout",
     "output_type": "stream",
     "text": [
      "No. of elements in the object:\n",
      "string= 16, list=5, array=5, tuple=7, dict=4, set=2, range=3\n"
     ]
    }
   ],
   "source": [
    "print(\"No. of elements in the object:\")\n",
    "print(\"string= {}, list={}, array={}, tuple={}, dict={}, set={}, range={}\".format(len(strsample),len(lstsample),len(arrsample),len(tupample),len(dictsample),len(setsample),len(rangesample)))"
   ]
  },
  {
   "cell_type": "code",
   "execution_count": 108,
   "id": "0ebafb65",
   "metadata": {},
   "outputs": [
    {
     "name": "stdout",
     "output_type": "stream",
     "text": [
      "[1, 2, 'a', 'sam', 2]\n"
     ]
    }
   ],
   "source": [
    "lstsample.reverse()\n",
    "print(lstsample)"
   ]
  },
  {
   "cell_type": "code",
   "execution_count": 110,
   "id": "147ce38d",
   "metadata": {},
   "outputs": [
    {
     "name": "stdout",
     "output_type": "stream",
     "text": [
      "{}\n"
     ]
    }
   ],
   "source": [
    "dictsample.clear()\n",
    "print(dictsample)"
   ]
  },
  {
   "cell_type": "code",
   "execution_count": 112,
   "id": "99e3d7ec",
   "metadata": {},
   "outputs": [
    {
     "name": "stdout",
     "output_type": "stream",
     "text": [
      "array('i', [1, 2, 4, 78, 9, 5, 5])\n"
     ]
    }
   ],
   "source": [
    "arrsample.append(5)\n",
    "print(arrsample)"
   ]
  },
  {
   "cell_type": "code",
   "execution_count": 117,
   "id": "b4e47a4e",
   "metadata": {},
   "outputs": [
    {
     "name": "stdout",
     "output_type": "stream",
     "text": [
      "[1, 2, 'a', 'sam', 2, 'apple', 'apple', ['apple', 1]]\n"
     ]
    }
   ],
   "source": [
    "lstsample.append(['apple',1])\n",
    "print(lstsample)"
   ]
  },
  {
   "cell_type": "code",
   "execution_count": 3,
   "id": "074b360f",
   "metadata": {},
   "outputs": [
    {
     "name": "stdout",
     "output_type": "stream",
     "text": [
      "{24, 'data', 'example', 87.5}\n"
     ]
    }
   ],
   "source": [
    "setsample={24, 'data', 'example', 87.5}\n",
    "\n",
    "print(setsample)\n"
   ]
  },
  {
   "cell_type": "code",
   "execution_count": 4,
   "id": "fda0ecdf",
   "metadata": {},
   "outputs": [
    {
     "name": "stdout",
     "output_type": "stream",
     "text": [
      "{'data', 20, 87.5, 24, 'example'}\n"
     ]
    }
   ],
   "source": [
    "setsample.add(20)\n",
    "print(setsample)\n"
   ]
  },
  {
   "cell_type": "code",
   "execution_count": 5,
   "id": "0298e264",
   "metadata": {},
   "outputs": [
    {
     "name": "stdout",
     "output_type": "stream",
     "text": [
      "{'data', 20, 87.5, 24, 'example'}\n"
     ]
    }
   ],
   "source": [
    "A = setsample\n",
    "print(A)\n"
   ]
  },
  {
   "cell_type": "code",
   "execution_count": 7,
   "id": "894d9514",
   "metadata": {},
   "outputs": [
    {
     "name": "stdout",
     "output_type": "stream",
     "text": [
      "{'priya', 'a:)', 20, 87.5}\n"
     ]
    }
   ],
   "source": [
    "B = {20,87.5,'priya','a:)'}\n",
    "print(B)"
   ]
  },
  {
   "cell_type": "code",
   "execution_count": 8,
   "id": "6b81ca04",
   "metadata": {},
   "outputs": [
    {
     "name": "stdout",
     "output_type": "stream",
     "text": [
      "{24, 'data', 'example'}\n"
     ]
    }
   ],
   "source": [
    "print(A-B)"
   ]
  }
 ],
 "metadata": {
  "kernelspec": {
   "display_name": "Python 3 (ipykernel)",
   "language": "python",
   "name": "python3"
  },
  "language_info": {
   "codemirror_mode": {
    "name": "ipython",
    "version": 3
   },
   "file_extension": ".py",
   "mimetype": "text/x-python",
   "name": "python",
   "nbconvert_exporter": "python",
   "pygments_lexer": "ipython3",
   "version": "3.11.4"
  }
 },
 "nbformat": 4,
 "nbformat_minor": 5
}
